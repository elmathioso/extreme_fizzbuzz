{
 "cells": [
  {
   "cell_type": "markdown",
   "id": "eea53f02-50ed-4da4-92c2-1cdcb8dfd8c1",
   "metadata": {},
   "source": [
    "# FizzBuzz using Pandas\n",
    "\n",
    "A solid increase in fancypants-ness. \n",
    "\n",
    "Creates two functions that are then applied to new columns, generating the fizzbuzz status."
   ]
  },
  {
   "cell_type": "code",
   "execution_count": 3,
   "id": "11cb0b50-2e02-4149-8947-982a28181349",
   "metadata": {},
   "outputs": [
    {
     "name": "stdout",
     "output_type": "stream",
     "text": [
      "['1' '2' 'Fizz' '4' 'Buzz' 'Fizz' '7' '8' 'Fizz' 'Buzz' '11' 'Fizz' '13'\n",
      " '14' 'FizzBuzz' '16' '17' 'Fizz' '19' 'Buzz' 'Fizz' '22' '23' 'Fizz'\n",
      " 'Buzz' '26' 'Fizz' '28' '29' 'FizzBuzz' '31' '32' 'Fizz' '34' 'Buzz'\n",
      " 'Fizz' '37' '38' 'Fizz' 'Buzz' '41' 'Fizz' '43' '44' 'FizzBuzz' '46' '47'\n",
      " 'Fizz' '49' 'Buzz' 'Fizz' '52' '53' 'Fizz' 'Buzz' '56' 'Fizz' '58' '59'\n",
      " 'FizzBuzz' '61' '62' 'Fizz' '64' 'Buzz' 'Fizz' '67' '68' 'Fizz' 'Buzz'\n",
      " '71' 'Fizz' '73' '74' 'FizzBuzz' '76' '77' 'Fizz' '79' 'Buzz' 'Fizz' '82'\n",
      " '83' 'Fizz' 'Buzz' '86' 'Fizz' '88' '89' 'FizzBuzz' '91' '92' 'Fizz' '94'\n",
      " 'Buzz' 'Fizz' '97' '98' 'Fizz' 'Buzz']\n"
     ]
    }
   ],
   "source": [
    "import pandas as pd\n",
    "\n",
    "def fizz(x):\n",
    "    \"\"\"\n",
    "    Fizz!\n",
    "    \"\"\"\n",
    "    result = 0\n",
    "    if x % 3 == 0: result = 1\n",
    "    return result\n",
    "\n",
    "\n",
    "def buzz(x):\n",
    "    \"\"\"\n",
    "    Buzz!\n",
    "    \"\"\"\n",
    "    result = 0\n",
    "    if x % 5 == 0: result = 1\n",
    "    return result        \n",
    "\n",
    "\n",
    "def print_result(index, fizz, buzz):\n",
    "    \"\"\"\n",
    "    Output!\n",
    "    \"\"\"\n",
    "    if not fizz and not buzz:\n",
    "        \n",
    "        # return number if both vars are zero\n",
    "        return str(index)\n",
    "        \n",
    "    else:\n",
    "        \n",
    "        # Create simple ternary operator for each condition\n",
    "        return ('Fizz' if fizz else '') + ('Buzz' if buzz else '')\n",
    "\n",
    "# Create data frame with numbers\n",
    "df = pd.DataFrame(range(1, 101), columns=['Number'])\n",
    "\n",
    "# Apply both conditions\n",
    "df['Fizz'] = df.apply(lambda x: fizz(x['Number']), axis=1)\n",
    "df['Buzz'] = df.apply(lambda x: buzz(x['Number']), axis=1)\n",
    "\n",
    "# Create a 'Results' with the correct contents \n",
    "df['Result'] = df.apply(lambda x: print_result(x['Number'], x['Fizz'], x['Buzz']), axis=1)\n",
    "df = df.set_index(['Number'])\n",
    "\n",
    "# Print results\n",
    "print(df['Result'].values)"
   ]
  }
 ],
 "metadata": {
  "kernelspec": {
   "display_name": "Python 3 (ipykernel)",
   "language": "python",
   "name": "python3"
  },
  "language_info": {
   "codemirror_mode": {
    "name": "ipython",
    "version": 3
   },
   "file_extension": ".py",
   "mimetype": "text/x-python",
   "name": "python",
   "nbconvert_exporter": "python",
   "pygments_lexer": "ipython3",
   "version": "3.11.6"
  }
 },
 "nbformat": 4,
 "nbformat_minor": 5
}
