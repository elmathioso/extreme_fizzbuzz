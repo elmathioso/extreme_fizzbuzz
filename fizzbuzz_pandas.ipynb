{
 "cells": [
  {
   "cell_type": "code",
   "execution_count": 18,
   "id": "11cb0b50-2e02-4149-8947-982a28181349",
   "metadata": {},
   "outputs": [
    {
     "name": "stdout",
     "output_type": "stream",
     "text": [
      "        Fizz  Buzz\n",
      "Number            \n",
      "1          0     0\n",
      "2          0     0\n",
      "3          1     0\n",
      "4          0     0\n",
      "5          0     1\n",
      "...      ...   ...\n",
      "96         1     0\n",
      "97         0     0\n",
      "98         0     0\n",
      "99         1     0\n",
      "100        0     1\n",
      "\n",
      "[100 rows x 2 columns]\n"
     ]
    }
   ],
   "source": [
    "import pandas as pd\n",
    "\n",
    "def fizz(x):\n",
    "    result = 0\n",
    "    if x % 3 == 0: result = 1\n",
    "    return result\n",
    "#     return 1 if x % 3 == 0 else 0\n",
    "\n",
    "def buzz(x):\n",
    "    result = 0\n",
    "    if x % 5 == 0: result = 1\n",
    "    return result        \n",
    "\n",
    "df = pd.DataFrame(range(1, 101), columns=['Number'])\n",
    "df['Fizz'] = df.apply(lambda x: fizz(x['Number']), axis=1)\n",
    "df['Buzz'] = df.apply(lambda x: buzz(x['Number']), axis=1)\n",
    "df = df.set_index(['Number'])\n",
    "\n",
    "print(df)"
   ]
  },
  {
   "cell_type": "code",
   "execution_count": 17,
   "id": "cba8fbbe-75b7-43c9-97dd-162c16d0d77c",
   "metadata": {},
   "outputs": [
    {
     "data": {
      "text/plain": [
       "Fizz    1\n",
       "Buzz    1\n",
       "Name: 15, dtype: int64"
      ]
     },
     "execution_count": 17,
     "metadata": {},
     "output_type": "execute_result"
    }
   ],
   "source": [
    "df.loc[15]"
   ]
  }
 ],
 "metadata": {
  "kernelspec": {
   "display_name": "Python 3 (ipykernel)",
   "language": "python",
   "name": "python3"
  },
  "language_info": {
   "codemirror_mode": {
    "name": "ipython",
    "version": 3
   },
   "file_extension": ".py",
   "mimetype": "text/x-python",
   "name": "python",
   "nbconvert_exporter": "python",
   "pygments_lexer": "ipython3",
   "version": "3.11.0rc1"
  }
 },
 "nbformat": 4,
 "nbformat_minor": 5
}
