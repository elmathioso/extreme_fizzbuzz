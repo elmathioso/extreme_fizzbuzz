{
 "cells": [
  {
   "cell_type": "markdown",
   "id": "03020dbd-9951-43c0-a7aa-1ab332d9b214",
   "metadata": {},
   "source": [
    "# Step 1: Create SOTA MNIST Model\n",
    "\n",
    "An absolutely unecessary appproach.\n",
    "\n",
    "Create a dual handwritten-digit FizzBuzz model.\n",
    "\n",
    "This program creates a SOTA-like MNIST model, then creates a new model\n",
    "with a dual copy of the MNIST model with FizzBuzz output flags.\n",
    "\n",
    "This code is based on the following code sources:\n",
    "- The [Keras MNIST example](https://www.tensorflow.org/datasets/keras_example) (used in the dataset preparation)\n",
    "- The [MNIST CNN SOTA model code](https://medium.com/@BrendanArtley/mnist-keras-simple-cnn-99-6-731b624aee7f) from [Brendan Artley](https://github.com/brendanartley/Medium-Article-Code/blob/main/code/mnist-keras-cnn-99-6.ipynb)"
   ]
  },
  {
   "cell_type": "code",
   "execution_count": 8,
   "id": "3df0b6b2-3cdf-4ef4-8a12-f958ca2fe53d",
   "metadata": {},
   "outputs": [],
   "source": [
    "import tensorflow as tf\n",
    "import tensorflow_datasets as tfds\n",
    "from tensorflow.keras.models import clone_model, Model\n",
    "from tensorflow.keras.datasets import mnist\n",
    "\n",
    "import random\n",
    "import matplotlib.pyplot as plt\n",
    "import numpy as np"
   ]
  },
  {
   "cell_type": "code",
   "execution_count": 2,
   "id": "699c4f0a-212d-4161-a0fb-a1537447e422",
   "metadata": {},
   "outputs": [
    {
     "name": "stderr",
     "output_type": "stream",
     "text": [
      "2024-10-14 16:50:27.078796: I external/local_xla/xla/stream_executor/cuda/cuda_executor.cc:887] could not open file to read NUMA node: /sys/bus/pci/devices/0000:01:00.0/numa_node\n",
      "Your kernel may have been built without NUMA support.\n",
      "2024-10-14 16:50:27.121127: I external/local_xla/xla/stream_executor/cuda/cuda_executor.cc:887] could not open file to read NUMA node: /sys/bus/pci/devices/0000:01:00.0/numa_node\n",
      "Your kernel may have been built without NUMA support.\n",
      "2024-10-14 16:50:27.121153: I external/local_xla/xla/stream_executor/cuda/cuda_executor.cc:887] could not open file to read NUMA node: /sys/bus/pci/devices/0000:01:00.0/numa_node\n",
      "Your kernel may have been built without NUMA support.\n",
      "2024-10-14 16:50:27.123758: I external/local_xla/xla/stream_executor/cuda/cuda_executor.cc:887] could not open file to read NUMA node: /sys/bus/pci/devices/0000:01:00.0/numa_node\n",
      "Your kernel may have been built without NUMA support.\n",
      "2024-10-14 16:50:27.123786: I external/local_xla/xla/stream_executor/cuda/cuda_executor.cc:887] could not open file to read NUMA node: /sys/bus/pci/devices/0000:01:00.0/numa_node\n",
      "Your kernel may have been built without NUMA support.\n",
      "2024-10-14 16:50:27.123795: I external/local_xla/xla/stream_executor/cuda/cuda_executor.cc:887] could not open file to read NUMA node: /sys/bus/pci/devices/0000:01:00.0/numa_node\n",
      "Your kernel may have been built without NUMA support.\n",
      "2024-10-14 16:50:27.364160: I external/local_xla/xla/stream_executor/cuda/cuda_executor.cc:887] could not open file to read NUMA node: /sys/bus/pci/devices/0000:01:00.0/numa_node\n",
      "Your kernel may have been built without NUMA support.\n",
      "2024-10-14 16:50:27.364205: I external/local_xla/xla/stream_executor/cuda/cuda_executor.cc:887] could not open file to read NUMA node: /sys/bus/pci/devices/0000:01:00.0/numa_node\n",
      "Your kernel may have been built without NUMA support.\n",
      "2024-10-14 16:50:27.364211: I tensorflow/core/common_runtime/gpu/gpu_device.cc:2022] Could not identify NUMA node of platform GPU id 0, defaulting to 0.  Your kernel may not have been built with NUMA support.\n",
      "2024-10-14 16:50:27.364230: I external/local_xla/xla/stream_executor/cuda/cuda_executor.cc:887] could not open file to read NUMA node: /sys/bus/pci/devices/0000:01:00.0/numa_node\n",
      "Your kernel may have been built without NUMA support.\n",
      "2024-10-14 16:50:27.364245: I tensorflow/core/common_runtime/gpu/gpu_device.cc:1929] Created device /job:localhost/replica:0/task:0/device:GPU:0 with 3542 MB memory:  -> device: 0, name: NVIDIA GeForce RTX 4050 Laptop GPU, pci bus id: 0000:01:00.0, compute capability: 8.9\n"
     ]
    }
   ],
   "source": [
    "\n",
    "# Load embedded MNIST data\n",
    "(ds_train, ds_test), ds_info = tfds.load(\n",
    "    'mnist',\n",
    "    split=['train', 'test'],\n",
    "    shuffle_files=True,\n",
    "    as_supervised=True,\n",
    "    with_info=True,\n",
    ")\n",
    "\n",
    "def normalize_img(image, label):\n",
    "  \"\"\"Normalizes images: `uint8` -> `float32`.\"\"\"\n",
    "  return tf.cast(image, tf.float32) / 255., label\n",
    "\n",
    "# Normalize training data\n",
    "ds_train = ds_train.map(normalize_img, num_parallel_calls=tf.data.AUTOTUNE)\n",
    "ds_train = ds_train.cache()\n",
    "ds_train = ds_train.shuffle(ds_info.splits['train'].num_examples)\n",
    "ds_train = ds_train.batch(128)\n",
    "ds_train = ds_train.prefetch(tf.data.AUTOTUNE)\n",
    "\n",
    "# Normalize testing data\n",
    "ds_test = ds_test.map(normalize_img, num_parallel_calls=tf.data.AUTOTUNE)\n",
    "ds_test = ds_test.batch(128)\n",
    "ds_test = ds_test.cache()\n",
    "ds_test = ds_test.prefetch(tf.data.AUTOTUNE)\n",
    "\n",
    "# Also manually load data for easy interactivity\n",
    "(x_train, y_train), (x_test, y_test) = mnist.load_data()\n",
    "x_train = x_train.astype(\"float32\")/255\n",
    "x_test = x_test.astype(\"float32\")/255"
   ]
  },
  {
   "cell_type": "markdown",
   "id": "f2afc68b-68b9-4415-90a9-6fe3d5b00788",
   "metadata": {},
   "source": [
    "## Create SOTA Model \n",
    "\n",
    "Create a CNN model to evaluate the handwwritten digits.\n",
    "\n",
    "From [Brendan Artley](https://medium.com/@BrendanArtley/mnist-keras-simple-cnn-99-6-731b624aee7f)"
   ]
  },
  {
   "cell_type": "code",
   "execution_count": 3,
   "id": "34d7a80b-ad5b-4b99-b1c2-78f39c2f172c",
   "metadata": {},
   "outputs": [],
   "source": [
    "\n",
    "model = tf.keras.models.Sequential([\n",
    "    tf.keras.layers.Conv2D(filters=32, kernel_size=(3, 3), activation='relu', strides=1, padding='same', data_format='channels_last', input_shape=(28,28, 1)),\n",
    "    tf.keras.layers.BatchNormalization(),\n",
    "    tf.keras.layers.Conv2D(filters=32, kernel_size=(3, 3), activation='relu', strides=1, padding='same', data_format='channels_last'),\n",
    "    tf.keras.layers.BatchNormalization(),\n",
    "    tf.keras.layers.MaxPooling2D(pool_size=(2, 2), strides=2, padding='valid'),\n",
    "    tf.keras.layers.Dropout(0.25),\n",
    "    \n",
    "    tf.keras.layers.Conv2D(filters=64, kernel_size=(3, 3), activation='relu', strides=1, padding='same', data_format='channels_last'),\n",
    "    tf.keras.layers.BatchNormalization(),\n",
    "    tf.keras.layers.Conv2D(filters=64, kernel_size=(3, 3), strides=1, padding='same', activation='relu', data_format='channels_last'),\n",
    "    tf.keras.layers.BatchNormalization(),\n",
    "    tf.keras.layers.MaxPooling2D(pool_size=(2, 2), padding='valid', strides=2),\n",
    "    tf.keras.layers.Dropout(0.25),\n",
    "\n",
    "    tf.keras.layers.Flatten(),\n",
    "    tf.keras.layers.Dense(512, activation='relu'),\n",
    "    tf.keras.layers.BatchNormalization(),\n",
    "    tf.keras.layers.Dropout(0.25),\n",
    "    tf.keras.layers.Dense(1024, activation='relu'),\n",
    "    tf.keras.layers.BatchNormalization(),\n",
    "    tf.keras.layers.Dropout(0.5),\n",
    "    tf.keras.layers.Dense(10, activation='softmax'),\n",
    "])"
   ]
  },
  {
   "cell_type": "code",
   "execution_count": 4,
   "id": "7f3a2a90-2537-4a41-ab8a-d6ba27faca89",
   "metadata": {},
   "outputs": [
    {
     "name": "stdout",
     "output_type": "stream",
     "text": [
      "Epoch 1/15\n"
     ]
    },
    {
     "name": "stderr",
     "output_type": "stream",
     "text": [
      "/usr/local/lib/python3.11/dist-packages/keras/src/backend.py:5727: UserWarning: \"`sparse_categorical_crossentropy` received `from_logits=True`, but the `output` argument was produced by a Softmax activation and thus does not represent logits. Was this intended?\n",
      "  output, from_logits = _get_logits(\n",
      "2024-10-14 16:50:58.190760: E tensorflow/core/grappler/optimizers/meta_optimizer.cc:961] layout failed: INVALID_ARGUMENT: Size of values 0 does not match size of permutation 4 @ fanin shape insequential/dropout/dropout/SelectV2-2-TransposeNHWCToNCHW-LayoutOptimizer\n",
      "2024-10-14 16:51:00.041461: I external/local_xla/xla/stream_executor/cuda/cuda_dnn.cc:454] Loaded cuDNN version 8906\n",
      "2024-10-14 16:51:01.540124: I external/local_xla/xla/service/service.cc:168] XLA service 0x7f71e001ba10 initialized for platform CUDA (this does not guarantee that XLA will be used). Devices:\n",
      "2024-10-14 16:51:01.540156: I external/local_xla/xla/service/service.cc:176]   StreamExecutor device (0): NVIDIA GeForce RTX 4050 Laptop GPU, Compute Capability 8.9\n",
      "2024-10-14 16:51:01.550388: I tensorflow/compiler/mlir/tensorflow/utils/dump_mlir_util.cc:269] disabling MLIR crash reproducer, set env var `MLIR_CRASH_REPRODUCER_DIRECTORY` to enable.\n",
      "WARNING: All log messages before absl::InitializeLog() is called are written to STDERR\n",
      "I0000 00:00:1728924661.616647   67501 device_compiler.h:186] Compiled cluster using XLA!  This line is logged at most once for the lifetime of the process.\n"
     ]
    },
    {
     "name": "stdout",
     "output_type": "stream",
     "text": [
      "469/469 [==============================] - 15s 18ms/step - loss: 0.1872 - sparse_categorical_accuracy: 0.9451 - val_loss: 0.2862 - val_sparse_categorical_accuracy: 0.9222\n",
      "Epoch 2/15\n",
      "469/469 [==============================] - 7s 14ms/step - loss: 0.0675 - sparse_categorical_accuracy: 0.9800 - val_loss: 0.0547 - val_sparse_categorical_accuracy: 0.9841\n",
      "Epoch 3/15\n",
      "469/469 [==============================] - 7s 15ms/step - loss: 0.0493 - sparse_categorical_accuracy: 0.9847 - val_loss: 0.0292 - val_sparse_categorical_accuracy: 0.9900\n",
      "Epoch 4/15\n",
      "469/469 [==============================] - 7s 15ms/step - loss: 0.0419 - sparse_categorical_accuracy: 0.9876 - val_loss: 0.0246 - val_sparse_categorical_accuracy: 0.9917\n",
      "Epoch 5/15\n",
      "469/469 [==============================] - 7s 15ms/step - loss: 0.0362 - sparse_categorical_accuracy: 0.9886 - val_loss: 0.0203 - val_sparse_categorical_accuracy: 0.9944\n",
      "Epoch 6/15\n",
      "469/469 [==============================] - 8s 16ms/step - loss: 0.0323 - sparse_categorical_accuracy: 0.9899 - val_loss: 0.0256 - val_sparse_categorical_accuracy: 0.9926\n",
      "Epoch 7/15\n",
      "469/469 [==============================] - 8s 17ms/step - loss: 0.0315 - sparse_categorical_accuracy: 0.9899 - val_loss: 0.0266 - val_sparse_categorical_accuracy: 0.9923\n",
      "Epoch 8/15\n",
      "469/469 [==============================] - 8s 18ms/step - loss: 0.0309 - sparse_categorical_accuracy: 0.9904 - val_loss: 0.0260 - val_sparse_categorical_accuracy: 0.9929\n",
      "Epoch 9/15\n",
      "469/469 [==============================] - 9s 19ms/step - loss: 0.0269 - sparse_categorical_accuracy: 0.9916 - val_loss: 0.0235 - val_sparse_categorical_accuracy: 0.9933\n",
      "Epoch 10/15\n",
      "469/469 [==============================] - 10s 20ms/step - loss: 0.0244 - sparse_categorical_accuracy: 0.9927 - val_loss: 0.0244 - val_sparse_categorical_accuracy: 0.9925\n",
      "Epoch 11/15\n",
      "469/469 [==============================] - 10s 21ms/step - loss: 0.0237 - sparse_categorical_accuracy: 0.9926 - val_loss: 0.0186 - val_sparse_categorical_accuracy: 0.9946\n",
      "Epoch 12/15\n",
      "469/469 [==============================] - 10s 20ms/step - loss: 0.0226 - sparse_categorical_accuracy: 0.9929 - val_loss: 0.0209 - val_sparse_categorical_accuracy: 0.9940\n",
      "Epoch 13/15\n",
      "469/469 [==============================] - 10s 22ms/step - loss: 0.0196 - sparse_categorical_accuracy: 0.9939 - val_loss: 0.0196 - val_sparse_categorical_accuracy: 0.9941\n",
      "Epoch 14/15\n",
      "469/469 [==============================] - 10s 21ms/step - loss: 0.0173 - sparse_categorical_accuracy: 0.9945 - val_loss: 0.0335 - val_sparse_categorical_accuracy: 0.9906\n",
      "Epoch 15/15\n",
      "469/469 [==============================] - 9s 20ms/step - loss: 0.0183 - sparse_categorical_accuracy: 0.9941 - val_loss: 0.0244 - val_sparse_categorical_accuracy: 0.9932\n"
     ]
    },
    {
     "data": {
      "text/plain": [
       "<keras.src.callbacks.History at 0x7f72e1548310>"
      ]
     },
     "execution_count": 4,
     "metadata": {},
     "output_type": "execute_result"
    }
   ],
   "source": [
    "model.compile(\n",
    "    optimizer=tf.keras.optimizers.Adam(0.001),\n",
    "    loss=tf.keras.losses.SparseCategoricalCrossentropy(from_logits=True),\n",
    "    metrics=[tf.keras.metrics.SparseCategoricalAccuracy()],\n",
    ")\n",
    "\n",
    "model.fit(\n",
    "    ds_train,\n",
    "    epochs=15,\n",
    "    validation_data=ds_test,\n",
    ")"
   ]
  },
  {
   "cell_type": "code",
   "execution_count": 6,
   "id": "90aa6eca-085a-49fe-8cca-00effa6bd003",
   "metadata": {},
   "outputs": [],
   "source": [
    "# Save model\n",
    "model.save('fizzbuzz_mnist_single.keras')"
   ]
  },
  {
   "cell_type": "code",
   "execution_count": 12,
   "id": "4040e5fb-1564-4d1b-a0b1-e91150b6e170",
   "metadata": {},
   "outputs": [
    {
     "name": "stdout",
     "output_type": "stream",
     "text": [
      "1/1 [==============================] - 0s 21ms/step\n",
      "Results:\n",
      "[[7.2236765e-14 5.3631177e-13 1.6973480e-13 4.7385598e-14 5.8497504e-12\n",
      "  8.7207130e-11 1.0000000e+00 7.5902894e-17 5.6532400e-12 1.0887482e-17]]\n",
      "Value: 6\n"
     ]
    },
    {
     "data": {
      "image/png": "[encoded data removed]",
      "text/plain": [
       "<Figure size 300x300 with 1 Axes>"
      ]
     },
     "metadata": {},
     "output_type": "display_data"
    }
   ],
   "source": [
    "# test model\n",
    "\n",
    "# Pick a random digit\n",
    "# Note: Uses x_test for future validation; x_train used for smoke test\n",
    "x = random.randint(0, len(x_train))  \n",
    "v = x_train[x]\n",
    "res = model.predict(np.expand_dims(v, axis=0))\n",
    "print(\"Results:\")\n",
    "print(res)\n",
    "\n",
    "# print highest digit\n",
    "print(\"Value:\", np.argmax(res))\n",
    "\n",
    "fig, axes = plt.subplots(1,1,figsize=(3,3))\n",
    "\n",
    "axes.imshow(v)\n",
    "plt.show()"
   ]
  },
  {
   "cell_type": "code",
   "execution_count": 13,
   "id": "0ea63e21-27a2-4c94-a47f-c628bd0a43cd",
   "metadata": {},
   "outputs": [
    {
     "name": "stdout",
     "output_type": "stream",
     "text": [
      "Model: \"sequential\"\n",
      "_________________________________________________________________\n",
      " Layer (type)                Output Shape              Param #   \n",
      "=================================================================\n",
      " conv2d (Conv2D)             (None, 28, 28, 32)        320       \n",
      "                                                                 \n",
      " batch_normalization (Batch  (None, 28, 28, 32)        128       \n",
      " Normalization)                                                  \n",
      "                                                                 \n",
      " conv2d_1 (Conv2D)           (None, 28, 28, 32)        9248      \n",
      "                                                                 \n",
      " batch_normalization_1 (Bat  (None, 28, 28, 32)        128       \n",
      " chNormalization)                                                \n",
      "                                                                 \n",
      " max_pooling2d (MaxPooling2  (None, 14, 14, 32)        0         \n",
      " D)                                                              \n",
      "                                                                 \n",
      " dropout (Dropout)           (None, 14, 14, 32)        0         \n",
      "                                                                 \n",
      " conv2d_2 (Conv2D)           (None, 14, 14, 64)        18496     \n",
      "                                                                 \n",
      " batch_normalization_2 (Bat  (None, 14, 14, 64)        256       \n",
      " chNormalization)                                                \n",
      "                                                                 \n",
      " conv2d_3 (Conv2D)           (None, 14, 14, 64)        36928     \n",
      "                                                                 \n",
      " batch_normalization_3 (Bat  (None, 14, 14, 64)        256       \n",
      " chNormalization)                                                \n",
      "                                                                 \n",
      " max_pooling2d_1 (MaxPoolin  (None, 7, 7, 64)          0         \n",
      " g2D)                                                            \n",
      "                                                                 \n",
      " dropout_1 (Dropout)         (None, 7, 7, 64)          0         \n",
      "                                                                 \n",
      " flatten (Flatten)           (None, 3136)              0         \n",
      "                                                                 \n",
      " dense (Dense)               (None, 512)               1606144   \n",
      "                                                                 \n",
      " batch_normalization_4 (Bat  (None, 512)               2048      \n",
      " chNormalization)                                                \n",
      "                                                                 \n",
      " dropout_2 (Dropout)         (None, 512)               0         \n",
      "                                                                 \n",
      " dense_1 (Dense)             (None, 1024)              525312    \n",
      "                                                                 \n",
      " batch_normalization_5 (Bat  (None, 1024)              4096      \n",
      " chNormalization)                                                \n",
      "                                                                 \n",
      " dropout_3 (Dropout)         (None, 1024)              0         \n",
      "                                                                 \n",
      " dense_2 (Dense)             (None, 10)                10250     \n",
      "                                                                 \n",
      "=================================================================\n",
      "Total params: 2213610 (8.44 MB)\n",
      "Trainable params: 2210154 (8.43 MB)\n",
      "Non-trainable params: 3456 (13.50 KB)\n",
      "_________________________________________________________________\n"
     ]
    }
   ],
   "source": [
    "# If necessary, reload model for below debugging \n",
    "# model = tf.keras.saving.load_model('fizzbuzz_mnist_single.keras')\n",
    "model.summary()"
   ]
  },
  {
   "cell_type": "markdown",
   "id": "515f4c04-53b6-4e9d-ad4e-4e25c5a19edd",
   "metadata": {},
   "source": [
    "# Step 2: Create super model with cloned models\n",
    "\n",
    "Create two separate MNIST evaluators that will feed into a concatenator, followed by a dense group to calculate the Fizzbuzz."
   ]
  },
  {
   "cell_type": "code",
   "execution_count": 15,
   "id": "635795cc-6bca-4d63-ad4c-f50b9934b311",
   "metadata": {},
   "outputs": [],
   "source": [
    "# Freeze the existing layers\n",
    "for layer in model.layers:\n",
    "    layer.trainable = False\n",
    "\n",
    "# We will clone the MNIST model to use it twice\n",
    "model._name = 'copy1'\n",
    "base_model1 = clone_model(model)\n",
    "model._name = 'copy2'\n",
    "base_model2 = clone_model(model)\n",
    "\n",
    "# Load the previously trained weights\n",
    "base_model1.set_weights(model.get_weights())\n",
    "base_model2.set_weights(model.get_weights())\n",
    "\n",
    "# Freeze the existing layers\n",
    "for layer in base_model1.layers: layer.trainable = False\n",
    "for layer in base_model2.layers: layer.trainable = False\n",
    "\n",
    "# Define the inputs for two concurrent images\n",
    "input1 = tf.keras.layers.Input(shape=(28, 28, 1), name='input1')\n",
    "input2 = tf.keras.layers.Input(shape=(28, 28, 1), name='input2')\n",
    "\n",
    "# Process each input image with the base CNN model\n",
    "output1 = base_model1(input1)\n",
    "output2 = base_model2(input2)\n",
    "\n",
    "# Concatenate the outputs from the two models\n",
    "combined = tf.keras.layers.Concatenate()([output1, output2])\n",
    "\n",
    "# Adding dense layers to interpret Fizzbuzz\n",
    "combined = tf.keras.layers.Flatten()(combined)\n",
    "dense_output = tf.keras.layers.Dense(100, activation='sigmoid')(combined)\n",
    "dense_output = tf.keras.layers.Dense(20, activation='relu')(dense_output)\n",
    "dense_output = tf.keras.layers.Flatten()(dense_output)\n",
    "dense_output = tf.keras.layers.Dense(2, activation='sigmoid')(dense_output)\n",
    "\n",
    "# Create the new model with dual inputs\n",
    "super_model = Model(inputs=[input1, input2], outputs=dense_output)\n",
    "\n",
    "# Compile the model with appropriate loss and optimizer\n",
    "super_model.compile(optimizer='adam',\n",
    "                    loss='binary_crossentropy',\n",
    "                    metrics=['binary_accuracy'], \n",
    ")"
   ]
  },
  {
   "cell_type": "code",
   "execution_count": 16,
   "id": "e31511ef-f433-4199-8e23-cb1b3615c8bd",
   "metadata": {},
   "outputs": [
    {
     "name": "stdout",
     "output_type": "stream",
     "text": [
      "Model: \"model\"\n",
      "_____________________________________________________________________________________________________________\n",
      " Layer (type)                Output Shape                 Param #   Connected to                  Trainable  \n",
      "=============================================================================================================\n",
      " input1 (InputLayer)         [(None, 28, 28, 1)]          0         []                            Y          \n",
      "                                                                                                             \n",
      " input2 (InputLayer)         [(None, 28, 28, 1)]          0         []                            Y          \n",
      "                                                                                                             \n",
      " copy1 (Sequential)          (None, 10)                   2213610   ['input1[0][0]']              Y          \n",
      "                                                                                                             \n",
      " copy2 (Sequential)          (None, 10)                   2213610   ['input2[0][0]']              Y          \n",
      "                                                                                                             \n",
      " concatenate_1 (Concatenate  (None, 20)                   0         ['copy1[0][0]',               Y          \n",
      " )                                                                   'copy2[0][0]']                          \n",
      "                                                                                                             \n",
      " flatten_1 (Flatten)         (None, 20)                   0         ['concatenate_1[0][0]']       Y          \n",
      "                                                                                                             \n",
      " dense_3 (Dense)             (None, 100)                  2100      ['flatten_1[0][0]']           Y          \n",
      "                                                                                                             \n",
      " dense_4 (Dense)             (None, 20)                   2020      ['dense_3[0][0]']             Y          \n",
      "                                                                                                             \n",
      " flatten_2 (Flatten)         (None, 20)                   0         ['dense_4[0][0]']             Y          \n",
      "                                                                                                             \n",
      " dense_5 (Dense)             (None, 2)                    42        ['flatten_2[0][0]']           Y          \n",
      "                                                                                                             \n",
      "=============================================================================================================\n",
      "Total params: 4431382 (16.90 MB)\n",
      "Trainable params: 4162 (16.26 KB)\n",
      "Non-trainable params: 4427220 (16.89 MB)\n",
      "_____________________________________________________________________________________________________________\n"
     ]
    }
   ],
   "source": [
    "super_model.summary(show_trainable=True)"
   ]
  },
  {
   "cell_type": "code",
   "execution_count": 17,
   "id": "1c51fa3b-19f4-4372-bc81-e4b5d45141a2",
   "metadata": {},
   "outputs": [],
   "source": [
    "# Reload data, if necessary\n",
    "(x_train, y_train), (x_test, y_test) = mnist.load_data()\n",
    "x_train = x_train.astype(\"float32\")/255\n",
    "x_test = x_test.astype(\"float32\")/255\n",
    "\n",
    "\n",
    "def generate_batch(): # debug=False):\n",
    "    \"\"\"\n",
    "    Creates a batch from numbers 00 to 99.\n",
    "\n",
    "    For every number, picks two random representative digits, \n",
    "      calculates its fizzbuzz, returns the output.\n",
    "    \"\"\"\n",
    "\n",
    "    # inputs = []\n",
    "    inputs1 = []\n",
    "    inputs2 = []\n",
    "    labels = []\n",
    "    number_locations = {}\n",
    "    \n",
    "    batch = 5 # number of sequences from 1 to 100 to be generated\n",
    "    \n",
    "    # find and organize digits\n",
    "    for i in range(10):\n",
    "        number_locations[i] = np.where(y_train == i)[0]\n",
    "\n",
    "    for b in range(batch):\n",
    "        for i in range(0, 100):\n",
    "            tens = int(i / 10)\n",
    "            ones = i % 10\n",
    "        \n",
    "            # pick an image from the list of digits\n",
    "            first_digit  = number_locations[tens][np.random.choice(len(number_locations[tens]), size=1)][0]\n",
    "            second_digit = number_locations[ones][np.random.choice(len(number_locations[ones]), size=1)][0]\n",
    "            \n",
    "            img0 = x_train[first_digit]\n",
    "            img1 = x_train[second_digit]\n",
    "    \n",
    "            inputs1.append(img0)\n",
    "            inputs2.append(img1)\n",
    "            \n",
    "    \n",
    "            # Fizzbuzz classification\n",
    "            fizz = 0\n",
    "            buzz = 0\n",
    "            if i % 3 == 0: fizz = 1\n",
    "            if i % 5 == 0: buzz = 1\n",
    "    \n",
    "            # create fizzbuzz labels\n",
    "            label = np.array([fizz, buzz]) #.reshape(2,1)\n",
    "            labels.append(label)\n",
    "\n",
    "\n",
    "    # Shuffle the output list \n",
    "    temp = list(zip(inputs1, inputs2, labels))\n",
    "    random.shuffle(temp)\n",
    "    inputs1, inputs2, labels = zip(*temp)\n",
    "    inputs1, inputs2, labels = list(inputs1), list(inputs2), list(labels) \n",
    "\n",
    "    # Clean up outputs\n",
    "    inputs1 = np.array(inputs1)\n",
    "    inputs2 = np.array(inputs2)\n",
    "    labels = np.array(labels)\n",
    "\n",
    "    return inputs1, inputs2, labels\n"
   ]
  },
  {
   "cell_type": "code",
   "execution_count": 21,
   "id": "f80f2a1d-6159-4c66-afa0-28b00b7397b4",
   "metadata": {},
   "outputs": [
    {
     "name": "stdout",
     "output_type": "stream",
     "text": [
      "Epoch 1/15\n",
      "100/100 [==============================] - 6s 28ms/step - loss: 0.5453 - binary_accuracy: 0.7300\n",
      "Epoch 2/15\n",
      "100/100 [==============================] - 3s 28ms/step - loss: 0.4266 - binary_accuracy: 0.7868\n",
      "Epoch 3/15\n",
      "100/100 [==============================] - 3s 29ms/step - loss: 0.3338 - binary_accuracy: 0.8293\n",
      "Epoch 4/15\n",
      "100/100 [==============================] - 3s 29ms/step - loss: 0.3071 - binary_accuracy: 0.8458\n",
      "Epoch 5/15\n",
      "100/100 [==============================] - 3s 28ms/step - loss: 0.2731 - binary_accuracy: 0.8985\n",
      "Epoch 6/15\n",
      "100/100 [==============================] - 3s 29ms/step - loss: 0.2037 - binary_accuracy: 0.9146\n",
      "Epoch 7/15\n",
      "100/100 [==============================] - 3s 28ms/step - loss: 0.1229 - binary_accuracy: 0.9814\n",
      "Epoch 8/15\n",
      "100/100 [==============================] - 3s 28ms/step - loss: 0.0694 - binary_accuracy: 0.9883\n",
      "Epoch 9/15\n",
      "100/100 [==============================] - 3s 29ms/step - loss: 0.0462 - binary_accuracy: 0.9965\n",
      "Epoch 10/15\n",
      "100/100 [==============================] - 3s 29ms/step - loss: 0.0330 - binary_accuracy: 0.9966\n",
      "Epoch 11/15\n",
      "100/100 [==============================] - 3s 29ms/step - loss: 0.0254 - binary_accuracy: 0.9969\n",
      "Epoch 12/15\n",
      "100/100 [==============================] - 3s 28ms/step - loss: 0.0219 - binary_accuracy: 0.9969\n",
      "Epoch 13/15\n",
      "100/100 [==============================] - 3s 27ms/step - loss: 0.0213 - binary_accuracy: 0.9964\n",
      "Epoch 14/15\n",
      "100/100 [==============================] - 3s 27ms/step - loss: 0.0188 - binary_accuracy: 0.9969\n",
      "Epoch 15/15\n",
      "100/100 [==============================] - 3s 27ms/step - loss: 0.0190 - binary_accuracy: 0.9967\n"
     ]
    },
    {
     "data": {
      "text/plain": [
       "<keras.src.callbacks.History at 0x7f72207c6190>"
      ]
     },
     "execution_count": 21,
     "metadata": {},
     "output_type": "execute_result"
    }
   ],
   "source": [
    "def data_generator():\n",
    "    \"\"\"\n",
    "    Creates back to back sequences of fizzbuzz calculations, in batches, from 00 to 99\n",
    "    \"\"\"\n",
    "    while True:\n",
    "        # Generate batch of inputs and labels\n",
    "        inputs1, inputs2, labels = generate_batch()  # Replace with your function\n",
    "        yield [inputs1, inputs2], labels\n",
    "\n",
    "# Use generator with fit()\n",
    "super_model.fit(data_generator(), steps_per_epoch=100, epochs=15)"
   ]
  },
  {
   "cell_type": "code",
   "execution_count": 22,
   "id": "68ca3fb3-77a7-4bea-b01a-5a83c9f33ad3",
   "metadata": {},
   "outputs": [],
   "source": [
    "model.save('fizzbuzz_mnist_fizzbuzz.keras')"
   ]
  },
  {
   "cell_type": "markdown",
   "id": "8dd79954-40f5-42fb-a905-5885baf992cd",
   "metadata": {},
   "source": [
    "# Test Model\n",
    "Select two values from the testing data, and infer the fizzbuzz output."
   ]
  },
  {
   "cell_type": "code",
   "execution_count": 37,
   "id": "ec09295c-4229-4382-99f1-0de1d9168b2f",
   "metadata": {},
   "outputs": [
    {
     "name": "stdout",
     "output_type": "stream",
     "text": [
      "1/1 [==============================] - 0s 19ms/step\n",
      "[[0.95226836 0.99980813]]\n"
     ]
    },
    {
     "data": {
      "image/png": "[encoded data removed]",
      "text/plain": [
       "<Figure size 300x600 with 2 Axes>"
      ]
     },
     "metadata": {},
     "output_type": "display_data"
    }
   ],
   "source": [
    "def get_digits(value):\n",
    "    \"\"\"\n",
    "    Select two MNIST values from the testing data to feed to the fizzbuzz calculator.\n",
    "    \"\"\"\n",
    "    \n",
    "    # find and organize digits\n",
    "    number_locations = {}\n",
    "\n",
    "    for i in range(10):\n",
    "        number_locations[i] = np.where(y_test == i)[0]\n",
    "\n",
    "    tens = int(value / 10)\n",
    "    ones = value % 10\n",
    "\n",
    "    # pick an image from the list of digits\n",
    "    first_digit  = number_locations[tens][np.random.choice(len(number_locations[tens]), size=1)][0]\n",
    "    second_digit = number_locations[ones][np.random.choice(len(number_locations[ones]), size=1)][0]\n",
    "    \n",
    "    img0 = x_test[first_digit]\n",
    "    img1 = x_test[second_digit]\n",
    "\n",
    "    return np.expand_dims(img0, axis=0), np.expand_dims(img1, axis=0)\n",
    "\n",
    "\n",
    "# Pick a random number\n",
    "x = random.randint(0,100)\n",
    "\n",
    "# retrieve two digit pictures\n",
    "first_digit, second_digit = get_digits(x)\n",
    "\n",
    "# Calculate fizzbuzz\n",
    "res = super_model.predict([first_digit, second_digit])\n",
    "print(res)\n",
    "print(\"Fizz:\", res[0][0])\n",
    "print(\"Buzz:\", res[0][1])\n",
    "\n",
    "# display value \n",
    "fig, axes = plt.subplots(1,2,figsize=(3,6))\n",
    "axes[0].imshow(first_digit[0])\n",
    "axes[1].imshow(second_digit[0])\n",
    "plt.show()"
   ]
  },
  {
   "cell_type": "markdown",
   "id": "756d90a5-8ea0-4176-b30d-b1ad308fae36",
   "metadata": {},
   "source": [
    "Run through all digits:"
   ]
  },
  {
   "cell_type": "code",
   "execution_count": null,
   "id": "a3c2709f-c18c-40e3-9771-25d09c25b2bd",
   "metadata": {},
   "outputs": [],
   "source": [
    "for i in range(100):\n",
    "    # retrieve two digit pictures\n",
    "    first_digit, second_digit = get_digits(x)\n",
    "    \n",
    "    # Calculate fizzbuzz\n",
    "    res = super_model.predict([first_digit, second_digit])\n",
    "    print(i, \"Fizz:\", res[0][0], \"Buzz:\", res[0][1])"
   ]
  }
 ],
 "metadata": {
  "kernelspec": {
   "display_name": "Python 3 (ipykernel)",
   "language": "python",
   "name": "python3"
  },
  "language_info": {
   "codemirror_mode": {
    "name": "ipython",
    "version": 3
   },
   "file_extension": ".py",
   "mimetype": "text/x-python",
   "name": "python",
   "nbconvert_exporter": "python",
   "pygments_lexer": "ipython3",
   "version": "3.11.6"
  }
 },
 "nbformat": 4,
 "nbformat_minor": 5
}
